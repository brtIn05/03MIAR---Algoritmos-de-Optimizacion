{
  "cells": [
    {
      "cell_type": "markdown",
      "metadata": {
        "id": "pNFca25o3x22"
      },
      "source": [
        "#AG1 - Actividad Guiada 1\n",
        "\n",
        "Nombre: Alberto Rodriguez Arizaga  \n",
        "\n",
        "Actividad guiada de Algoritmos Optimización (AG1)\n",
        "\n",
        "\n",
        "https://colab.research.google.com/drive/1tT6BBppj83w9r8RWccMekl9FN1OBQVMP?usp=sharing  \n",
        "\n",
        "https://github.com/brtIn05/03MIAR---Algoritmos-de-Optimizacion"
      ]
    },
    {
      "cell_type": "markdown",
      "metadata": {
        "id": "qZ0FzHp9JHkc"
      },
      "source": [
        "## Problema de las torres de Hanoi. Técnica de divide y vencerás."
      ]
    },
    {
      "cell_type": "code",
      "execution_count": 2,
      "metadata": {
        "colab": {
          "base_uri": "https://localhost:8080/",
          "height": 0
        },
        "id": "-KLiBHXv3qv4",
        "outputId": "2eeaf959-25e1-4c4f-b7de-f9a7191ce1b1"
      },
      "outputs": [
        {
          "name": "stdout",
          "output_type": "stream",
          "text": [
            "Lleva la ficha desde 1  hasta 3\n",
            "Lleva la ficha desde 1  hasta 2\n",
            "Lleva la ficha desde 3  hasta 2\n",
            "Lleva la ficha desde 1  hasta 3\n",
            "Lleva la ficha desde 2  hasta 1\n",
            "Lleva la ficha desde 2  hasta 3\n",
            "Lleva la ficha desde 1  hasta 3\n"
          ]
        }
      ],
      "source": [
        "#Torres de Hanoi - Divide y venceras\n",
        "################################################################################\n",
        "\n",
        "\n",
        "################################################################\n",
        "def Torres_Hanoi(N, desde, hasta):\n",
        "  #N - Nº de fichas\n",
        "  #desde - torre inicial\n",
        "  #hasta - torre final\n",
        "  if N==1 :\n",
        "    print(f\"Lleva la ficha desde {desde}  hasta {hasta}\")\n",
        "\n",
        "\n",
        "  else:\n",
        "    Torres_Hanoi(N-1, desde, 6-desde-hasta)\n",
        "    print(f\"Lleva la ficha desde {desde}  hasta {hasta}\")\n",
        "    Torres_Hanoi(N-1, 6-desde-hasta,  hasta)\n",
        "\n",
        "Torres_Hanoi(3, 1, 3)\n",
        "################################################################"
      ]
    },
    {
      "cell_type": "markdown",
      "metadata": {
        "id": "YU09jq6bI-3n"
      },
      "source": [
        "## Problema del cambio de monedas. Técnica de algoritmo voraz."
      ]
    },
    {
      "cell_type": "code",
      "execution_count": 3,
      "metadata": {
        "colab": {
          "base_uri": "https://localhost:8080/",
          "height": 0
        },
        "id": "soSaYJvFDG4R",
        "outputId": "3232712f-203a-4377-c5d1-789e507d96c1"
      },
      "outputs": [
        {
          "data": {
            "text/plain": [
              "{12: 1, 5: 0, 2: 1, 1: 1}"
            ]
          },
          "execution_count": 3,
          "metadata": {},
          "output_type": "execute_result"
        }
      ],
      "source": [
        "def cambio_monedas(cantidad, sistema):\n",
        "\n",
        "  # Cantidad: Cantidad de dinero a cambiar\n",
        "  # Sistema: Diferentes monedas que contiene nuestro sistema monetario \n",
        "\n",
        "  solucion = {}\n",
        "  sistema.sort(reverse=True)\n",
        "\n",
        "  for tipo_moneda in sistema:\n",
        "\n",
        "    cant_monedas = cantidad // tipo_moneda\n",
        "\n",
        "    solucion[tipo_moneda] = cant_monedas\n",
        "\n",
        "    cantidad -= cant_monedas * tipo_moneda\n",
        "\n",
        "    if cantidad == 0:\n",
        "\n",
        "      return solucion\n",
        "  print(\"No es posible encontrar solucion\") \n",
        "\n",
        "cambio_monedas(15,[12, 5 ,2, 1  ])\n"
      ]
    },
    {
      "cell_type": "markdown",
      "metadata": {
        "id": "d3KOV6GyJNcO"
      },
      "source": [
        "## Problema de las 4 reinas. Técnica de la vuelta atrás"
      ]
    },
    {
      "cell_type": "code",
      "execution_count": 4,
      "metadata": {
        "colab": {
          "base_uri": "https://localhost:8080/",
          "height": 0
        },
        "id": "moyp5JeIJYli",
        "outputId": "2ea5e17c-e39f-4a0c-c58c-8342d789172d"
      },
      "outputs": [
        {
          "name": "stdout",
          "output_type": "stream",
          "text": [
            "Solución  [2, 4, 1, 3]\n",
            "Solución  [3, 1, 4, 2]\n"
          ]
        }
      ],
      "source": [
        "\n",
        "#Verifica que en la solución parcial no hay amenzas entre reinas\n",
        "def es_prometedora(solucion,etapa):\n",
        "\n",
        "  #print(solucion)\n",
        "  #Si la solución tiene dos valores iguales no es valida => Dos reinas en la misma fila\n",
        "  for i in range(etapa+1):\n",
        "    #print(\"El valor \" + str(solucion[i]) + \" está \" +  str(solucion.count(solucion[i])) + \" veces\")\n",
        "    if solucion.count(solucion[i]) > 1:       \n",
        "      return False\n",
        "  \n",
        "    #Verifica las diagonales\n",
        "    for j in range(i+1, etapa +1 ):\n",
        "      #print(\"Comprobando diagonal de \" + str(i) + \" y \" + str(j))\n",
        "      if abs(i-j) == abs(solucion[i]-solucion[j]) : \n",
        "        return False\n",
        "  return True\n",
        "\n",
        "\n",
        "# Proceso principal de N-Reinas\n",
        "def reinas(N, solucion=[],etapa=0): \n",
        "\n",
        "  # Inicia el proceso una lista con posiciones vacías\n",
        "  if len(solucion) == 0:         \n",
        "    solucion = [0 for i in range(N) ]\n",
        "  \n",
        "  for i in range(N):\n",
        "    solucion[etapa] = i+1\n",
        "    if es_prometedora(solucion, etapa):\n",
        "      if etapa == N-1:\n",
        "        print(\"Solución \",solucion)\n",
        "      else:  \n",
        "        reinas(N, solucion, etapa+1)\n",
        "    else:\n",
        "      pass\n",
        "  \n",
        "  solucion[etapa] = 0\n",
        "\n",
        "reinas(4,solucion=[],etapa=0)\n"
      ]
    },
    {
      "cell_type": "code",
      "execution_count": 5,
      "metadata": {
        "colab": {
          "base_uri": "https://localhost:8080/",
          "height": 0
        },
        "id": "8G3bFm2pLWv8",
        "outputId": "ff84c596-c2a8-4702-8c4b-bc3be7e9f6be"
      },
      "outputs": [
        {
          "name": "stdout",
          "output_type": "stream",
          "text": [
            "\n",
            " -  -  X  - \n",
            " X  -  -  - \n",
            " -  -  -  X \n",
            " -  X  -  - "
          ]
        }
      ],
      "source": [
        "# Dibuja la solución al problema  de N-Reinas\n",
        "def escribe_solucion(S):\n",
        "  n = len(S)\n",
        "  for x in range(n):\n",
        "    print(\"\")\n",
        "    for i in range(n):\n",
        "      if S[i] == x+1:\n",
        "        print(\" X \" , end=\"\")\n",
        "      else:\n",
        "        print(\" - \", end=\"\")\n",
        "\n",
        "escribe_solucion([2, 4, 1, 3])"
      ]
    },
    {
      "cell_type": "markdown",
      "metadata": {
        "id": "F-SevSRtwBhY"
      },
      "source": [
        "## Problema: Encontrar los dos puntos más cercanos"
      ]
    },
    {
      "cell_type": "markdown",
      "metadata": {
        "id": "4RQK9RtzwRoK"
      },
      "source": [
        "### 1. Suponer en 1D, o sea, una lista de números. Calcular por fuerza bruta"
      ]
    },
    {
      "cell_type": "markdown",
      "metadata": {
        "id": "TkCmmzt4wfyF"
      },
      "source": [
        "Para calcularlo por fuerza bruta realizamos un bucle que recorra todos los elementos. Suponemos en este caso que la lista no esta ordenada."
      ]
    },
    {
      "cell_type": "code",
      "execution_count": 1,
      "metadata": {
        "id": "92Op3I0Qwt4J"
      },
      "outputs": [],
      "source": [
        "import random\n",
        "\n",
        "lista_puntos_1d = [7,2,4,10,15,25,39,59,47,32,72,38]\n",
        "\n",
        "lista_puntos_1d_2 = [random.randrange(1,10000) for _ in range(1000)]"
      ]
    },
    {
      "cell_type": "code",
      "execution_count": 10,
      "metadata": {
        "id": "QN966HASwRCG"
      },
      "outputs": [],
      "source": [
        "def puntos_cercanos(puntos):\n",
        "    \n",
        "    # Inicializamos la función\n",
        "    distancia_cercana = float('inf')\n",
        "    puntos_cercanos = (None, None)\n",
        "    # Construimos el bucle que recorra cada elemento \n",
        "    # En cada j empezara comparando solo los puntos siguientes puesto que los\n",
        "    # anteriores ya fueron comparadaos\n",
        "    for i in range(len(puntos)):\n",
        "        for j in range(i + 1, len(puntos)):\n",
        "\n",
        "            distance = abs(puntos[i] - puntos[j])\n",
        "\n",
        "            if distance < distancia_cercana:\n",
        "                distancia_cercana = distance\n",
        "                puntos_cercanos = (puntos[i], puntos[j])\n",
        "\n",
        "    return puntos_cercanos"
      ]
    },
    {
      "cell_type": "code",
      "execution_count": 11,
      "metadata": {
        "colab": {
          "base_uri": "https://localhost:8080/",
          "height": 0
        },
        "id": "uHtkJYcQztxx",
        "outputId": "b9fdefe2-dc37-486a-b26b-fe652a26bc2d"
      },
      "outputs": [
        {
          "data": {
            "text/plain": [
              "(39, 38)"
            ]
          },
          "execution_count": 11,
          "metadata": {},
          "output_type": "execute_result"
        }
      ],
      "source": [
        "puntos_cercanos(lista_puntos_1d)"
      ]
    },
    {
      "cell_type": "markdown",
      "metadata": {
        "id": "NSEJsZuX0Pye"
      },
      "source": [
        "### 2. Calcular la complejidad. ¿Se puede mejorar?\n",
        "\n",
        "En este caso la complejidad sería de O(n^2) puesto que el bucle se recorrería como la suma (n−1)+(n−2)+ ... +1 lo cual suma (1/2)(n^2−n).\n",
        "\n",
        "Esta complejidad puede mejorarse simplemente ordenando la lista de puntos pasando a ser de O(n) o usando un algoritmo de divide y vencerás como el que vemos en el punto siguiente."
      ]
    },
    {
      "cell_type": "markdown",
      "metadata": {
        "id": "NppoMbgP2G8p"
      },
      "source": [
        "### 3. Segundo intento. Aplicar Divide y Vencerás. Calcular la complejidad.\n",
        "\n",
        "En este caso, el problema se va diviendo sucesivamente en mitades, hasta llegar al caso base donde se calcula la distancia y se construye hasta el caso completo. Este proceso tiene complejidad O(n log(n)). Su implementación se puede ver aquí abajo.\n",
        "\n",
        "En este caso la implementación utiliza parte de una lista de puntos en 1D."
      ]
    },
    {
      "cell_type": "code",
      "execution_count": 12,
      "metadata": {
        "id": "STRNxBoM2gzW"
      },
      "outputs": [],
      "source": [
        "def distancia_1d(puntos):\n",
        "\n",
        "    return abs(puntos[0]-(puntos[1]))\n",
        "\n",
        "def puntos_cercanos(puntos):\n",
        "\n",
        "    n = len(puntos)\n",
        "\n",
        "    # Casos base\n",
        "\n",
        "    if n <= 1:\n",
        "        return [],float('inf')\n",
        "\n",
        "    if n == 2:\n",
        " \n",
        "        return puntos, distancia_1d(puntos)\n",
        "\n",
        "    # Dividimos el conjunto de puntos en dos mitades\n",
        "\n",
        "    mid = n // 2\n",
        "    izquierda_lado = puntos[:mid]\n",
        "    derecha_lado = puntos[mid:]\n",
        "\n",
        "    # Comenzamos el proceso recursivo calculando en ambos lados\n",
        "   \n",
        "    punto_izqu, d_izquierda = puntos_cercanos(izquierda_lado)\n",
        "\n",
        "    punto_der, d_derecha = puntos_cercanos(derecha_lado)\n",
        "\n",
        "\n",
        "    \n",
        "    distancia = min(d_izquierda, d_derecha)\n",
        "\n",
        "    if distancia == d_derecha:\n",
        "        punto_close = punto_der\n",
        "    else:\n",
        "        punto_close = punto_izqu\n",
        "\n",
        "    # Calculamos los puntos cuya distancia al pivote es inferior a la distancia en cada lado\n",
        "\n",
        "    pivote = [punto for punto in puntos if abs(punto - puntos[mid]) < distancia]\n",
        "\n",
        "    pivote.sort()\n",
        "\n",
        "    m = len (pivote)\n",
        "\n",
        "    # Ahora podemos calcular por fuerza bruta las distancias al pivote\n",
        "    # y coger la mínima y los puntos asociados.\n",
        "\n",
        "    for i in range(m - 1):\n",
        "        for j in range(i + 1, min(i + 7, m)):\n",
        "            distancia = min(distancia, abs(pivote[i] - pivote[j]))\n",
        "\n",
        "            if distancia ==  abs(pivote[i] - pivote[j]):\n",
        "                punto_close = [pivote[i], pivote[j]]\n",
        "\n",
        "    \n",
        "\n",
        "    return punto_close, distancia"
      ]
    },
    {
      "cell_type": "code",
      "execution_count": 13,
      "metadata": {
        "colab": {
          "base_uri": "https://localhost:8080/",
          "height": 0
        },
        "id": "zKQMSWEe2o38",
        "outputId": "d8f70e95-55ef-4077-cddb-b8bf46d74141"
      },
      "outputs": [
        {
          "data": {
            "text/plain": [
              "([38, 39], 1)"
            ]
          },
          "execution_count": 13,
          "metadata": {},
          "output_type": "execute_result"
        }
      ],
      "source": [
        "puntos_cercanos(lista_puntos_1d)"
      ]
    }
  ],
  "metadata": {
    "colab": {
      "provenance": [],
      "toc_visible": true
    },
    "kernelspec": {
      "display_name": "base",
      "language": "python",
      "name": "python3"
    },
    "language_info": {
      "codemirror_mode": {
        "name": "ipython",
        "version": 3
      },
      "file_extension": ".py",
      "mimetype": "text/x-python",
      "name": "python",
      "nbconvert_exporter": "python",
      "pygments_lexer": "ipython3",
      "version": "3.9.13"
    },
    "vscode": {
      "interpreter": {
        "hash": "e06ff7da33dc9620448857a90ad8b5f428f0d573d205a934d2841c8aee45ea32"
      }
    }
  },
  "nbformat": 4,
  "nbformat_minor": 0
}
