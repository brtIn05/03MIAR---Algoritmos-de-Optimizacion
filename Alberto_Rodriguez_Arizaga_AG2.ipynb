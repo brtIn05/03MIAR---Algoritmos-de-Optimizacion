{
  "nbformat": 4,
  "nbformat_minor": 0,
  "metadata": {
    "colab": {
      "provenance": [],
      "toc_visible": true
    },
    "kernelspec": {
      "name": "python3",
      "display_name": "Python 3"
    },
    "language_info": {
      "name": "python"
    }
  },
  "cells": [
    {
      "cell_type": "markdown",
      "source": [
        "#AG2 - Actividad Guiada 2\n",
        "\n",
        "Nombre: Alberto Rodriguez Arizaga  \n",
        "\n",
        "Actividad guiada de Algoritmos Optimización (AG2)\n",
        "\n",
        "\n",
        "https://colab.research.google.com/drive/1rKq9jmnDJruGOsueXwQPu1dglB2s1uNg?usp=sharing \n",
        "\n",
        "https://github.com/brtIn05/03MIAR---Algoritmos-de-Optimizacion"
      ],
      "metadata": {
        "id": "3fjvww26eBxP"
      }
    },
    {
      "cell_type": "markdown",
      "source": [
        "##Programación Dinámica. Viaje por el rio  \n",
        "\n",
        "\n",
        "### Enunciado del problema  \n",
        "En un río hay **n** embarcaderos y debemos desplazarnos río abajo desde un embarcadero a otro. Cada embarcadero tiene precios diferentes para ir de un embarcadero a otro situado más abajo. Para ir del embarcadero i al j, puede ocurrir que sea más barato hacer un trasbordo por un embarcadero intermedio k. El problema consiste en determinar la combinación más barata."
      ],
      "metadata": {
        "id": "xZlu_QV7eHkI"
      }
    },
    {
      "cell_type": "code",
      "source": [
        "#Viaje por el rio - Programación dinámica\n",
        "\n",
        "# Declaramos el coste de cada una de las posibles rutas en nuestro problema\n",
        "\n",
        "coste_indiv_ruta = [\n",
        "[0,5,4,3,float(\"inf\"),999,999],   # desde nodo 0\n",
        "[999,0,999,2,3,999,11],  # desde nodo 1\n",
        "[999,999, 0,1,999,4,10], # desde nodo 2\n",
        "[999,999,999, 0,5,6,9],\n",
        "[999,999, 999,999,0,999,4],\n",
        "[999,999, 999,999,999,0,3],\n",
        "[999,999,999,999,999,999,0]\n",
        "]\n",
        "\n",
        "coste_indiv_ruta"
      ],
      "metadata": {
        "colab": {
          "base_uri": "https://localhost:8080/"
        },
        "id": "zvY0aq8aF9P4",
        "outputId": "4f2c2111-778a-494b-e57b-4dbe2ccac824"
      },
      "execution_count": null,
      "outputs": [
        {
          "output_type": "execute_result",
          "data": {
            "text/plain": [
              "[[0, 5, 4, 3, inf, 999, 999],\n",
              " [999, 0, 999, 2, 3, 999, 11],\n",
              " [999, 999, 0, 1, 999, 4, 10],\n",
              " [999, 999, 999, 0, 5, 6, 9],\n",
              " [999, 999, 999, 999, 0, 999, 4],\n",
              " [999, 999, 999, 999, 999, 0, 3],\n",
              " [999, 999, 999, 999, 999, 999, 0]]"
            ]
          },
          "metadata": {},
          "execution_count": 25
        }
      ]
    },
    {
      "cell_type": "code",
      "source": [
        "#Calculo de la matriz de precio total de la ruta y la propia ruta\n",
        "#  precio_tot_ruta - contiene la matriz del mejor precio para ir de un nodo a otro\n",
        "#  ruta  - contiene los nodos intermedios para ir de un nodo a otro\n",
        " \n",
        "def calcula_precios(coste_indiv_ruta):\n",
        "\n",
        "  #Total de Nodos\n",
        "  n = len(coste_indiv_ruta[0])\n",
        "  \n",
        "  #Inicialización de la tabla de precios\n",
        "  coste_tot_ruta = [ [9999]*n for i in [9999]*n]  #n x n \n",
        "  ruta = [ [\"\"]*n for i in [\"\"]*n]\n",
        "  \n",
        "  # Se recorren todos los nodos con dos bucles (desde - hasta)\n",
        "  # para ir construyendo la matriz de coste total de ruta\n",
        "  for i in range(n-1):\n",
        "    for j in range(i+1, n):\n",
        "      coste_min_ruta = coste_indiv_ruta[i][j]\n",
        "      ruta[i][j] = i\n",
        "      \n",
        "      # Evaluamos el coste de ir desde el nodo i hasta el nodo j pasando por el k\n",
        "      # Esto es, sumar el precio de ir hasta el k más del k al j\n",
        "      # Si el precio es más barato el nodo se añade como ruta óptima\n",
        "      for k in range(i, j):\n",
        "        if coste_tot_ruta[i][k] + coste_indiv_ruta[k][j] < coste_min_ruta:\n",
        "            coste_min_ruta = min(coste_min_ruta, coste_tot_ruta[i][k] + coste_indiv_ruta[k][j] )\n",
        "            ruta[i][j] = k\n",
        "        coste_tot_ruta[i][j] = coste_min_ruta\n",
        "        \n",
        "  return coste_tot_ruta,ruta\n",
        "\n",
        "coste_tot_ruta,ruta = calcula_precios(coste_indiv_ruta)"
      ],
      "metadata": {
        "id": "sTmtHdW2RMa-"
      },
      "execution_count": null,
      "outputs": []
    },
    {
      "cell_type": "code",
      "source": [
        "#Calculo de la ruta usando la matriz ruta\n",
        "def calcular_ruta(ruta, desde, hasta):\n",
        "  if desde == ruta[desde][hasta]:\n",
        "\n",
        "    return desde \n",
        "  else:\n",
        "    return str(calcular_ruta(ruta, desde, ruta[desde][hasta])) +  ' --> ' + str(ruta[desde][hasta]) \n",
        "\n",
        "print(\"\\n La ruta óptima es:\")  \n",
        "calcular_ruta(ruta, 0,6) "
      ],
      "metadata": {
        "colab": {
          "base_uri": "https://localhost:8080/",
          "height": 71
        },
        "id": "d8jKFyKATCUZ",
        "outputId": "1dcd4ee0-6db5-4cbd-c524-cd3a5fef9c2c"
      },
      "execution_count": null,
      "outputs": [
        {
          "output_type": "stream",
          "name": "stdout",
          "text": [
            "\n",
            " La ruta óptima es:\n"
          ]
        },
        {
          "output_type": "execute_result",
          "data": {
            "text/plain": [
              "'0 --> 2 --> 5'"
            ],
            "application/vnd.google.colaboratory.intrinsic+json": {
              "type": "string"
            }
          },
          "metadata": {},
          "execution_count": 45
        }
      ]
    },
    {
      "cell_type": "markdown",
      "source": [
        "##Problema de Asignacion de tarea"
      ],
      "metadata": {
        "id": "l9VaUF4veBzd"
      }
    },
    {
      "cell_type": "code",
      "source": [
        "#Asignacion de tareas - Ramificación y Poda\n",
        "\n",
        "#    T A R E A \n",
        "#   A\n",
        "#   G\n",
        "#   E\n",
        "#   N\n",
        "#   T\n",
        "#   E\n",
        "          #T0 T1 T2 T3\n",
        "costes = [[11,12,18,40], # Agente 0\n",
        "          [14,15,13,22], # Agente 1\n",
        "          [11,17,19,23], # Agente 2\n",
        "          [17,14,20,28]] # Agente 3\n"
      ],
      "metadata": {
        "colab": {
          "base_uri": "https://localhost:8080/"
        },
        "id": "7JSfZjadeKjD",
        "outputId": "8b9a61e0-2840-40d9-eedd-d260a25a7c25"
      },
      "execution_count": null,
      "outputs": [
        {
          "output_type": "execute_result",
          "data": {
            "text/plain": [
              "73"
            ]
          },
          "metadata": {},
          "execution_count": 50
        }
      ]
    },
    {
      "cell_type": "code",
      "source": [
        "# Calculo del valor de una solucion parcial\n",
        "\n",
        "def calc_valor(sol,costes):\n",
        "  valor = 0\n",
        "  for i in range(len(sol)):\n",
        "    valor += costes[i][sol[i]]\n",
        "  return valor\n",
        "\n",
        "\n",
        "calc_valor((1,2,0,3),costes)"
      ],
      "metadata": {
        "colab": {
          "base_uri": "https://localhost:8080/"
        },
        "id": "hlwVpeszgC4v",
        "outputId": "b3dea0f8-326c-4979-d4ca-2de18c45d005"
      },
      "execution_count": null,
      "outputs": [
        {
          "output_type": "execute_result",
          "data": {
            "text/plain": [
              "64"
            ]
          },
          "metadata": {},
          "execution_count": 133
        }
      ]
    },
    {
      "cell_type": "code",
      "source": [
        "def CI(sol,costes):\n",
        "  VALOR = 0\n",
        "  #Valores establecidos\n",
        "  for i in range(len(sol)):\n",
        "    VALOR += costes[i][sol[i]]\n",
        "\n",
        "  #Estimacion\n",
        "  for i in range( len(sol), len(costes)   ):\n",
        "    VALOR += min( [ costes[j][i] for j in range(len(sol), len(costes))  ])\n",
        "  return VALOR\n",
        "\n",
        "def CS(sol,costes):\n",
        "  VALOR = 0\n",
        "  #Valores establecidos\n",
        "  for i in range(len(sol)):\n",
        "    VALOR += costes[i][sol[i]]\n",
        "\n",
        "  #Estimacion\n",
        "  for i in range( len(sol), len(costes)   ):\n",
        "    VALOR += max( [ costes[j][i] for j in range(len(sol), len(costes))  ])\n",
        "  return VALOR\n",
        "\n",
        "CI((1,0,3),costes)"
      ],
      "metadata": {
        "colab": {
          "base_uri": "https://localhost:8080/"
        },
        "id": "htm26uSigFZW",
        "outputId": "3f420e12-a26b-4ecc-a396-2467c668cfcf"
      },
      "execution_count": null,
      "outputs": [
        {
          "output_type": "execute_result",
          "data": {
            "text/plain": [
              "77"
            ]
          },
          "metadata": {},
          "execution_count": 127
        }
      ]
    },
    {
      "cell_type": "code",
      "source": [
        "#Genera los hijos en base a kla situación actual de la rama seleccionada\n",
        "\n",
        "def crear_hijos(nodo, n):\n",
        "  hijos = []\n",
        "  for i in range(n ):\n",
        "    if i not in nodo:\n",
        "      hijos.append({'s':nodo +(i,)    })\n",
        "  return hijos\n",
        "\n",
        "crear_hijos((0,) , 4)"
      ],
      "metadata": {
        "colab": {
          "base_uri": "https://localhost:8080/"
        },
        "id": "46m_kBQnq4oV",
        "outputId": "22062034-ab4f-48c3-f8f1-c4624e85cda6"
      },
      "execution_count": null,
      "outputs": [
        {
          "output_type": "execute_result",
          "data": {
            "text/plain": [
              "[{'s': (0, 1)}, {'s': (0, 2)}, {'s': (0, 3)}]"
            ]
          },
          "metadata": {},
          "execution_count": 134
        }
      ]
    },
    {
      "cell_type": "code",
      "source": [
        "# Construccion iterativa de soluciones(arbol). En cada etapa asignamos un agente(ramas).\n",
        "# Nodos del grafo construidos como { s:(1,2),CI:3,CS:5  }\n",
        "\n",
        "def ramificacion_y_poda(costes):\n",
        "\n",
        "  dimension = len(costes)  \n",
        "  mejor_solucion=tuple( i for i in range(len(costes)) )\n",
        "  CotaSup = calc_valor(mejor_solucion,costes)\n",
        "  #print(\"Cota Superior:\", CotaSup)\n",
        "\n",
        "  nodos=[]\n",
        "  nodos.append({'s':(), 'ci':CI((),costes)    } )\n",
        "\n",
        "  iteracion = 0\n",
        "\n",
        "  while( len(nodos) > 0):\n",
        "    iteracion +=1\n",
        "\n",
        "    nodo_prometedor = [ min(nodos, key=lambda x:x['ci']) ][0]['s']\n",
        "    # print(\"Nodo prometedor:\", nodo_prometedor)\n",
        "\n",
        "    # Ramificamos los hijos del nodo prometedor\n",
        "    hijos =[ {'s':x['s'], 'ci':CI(x['s'], costes)   } for x in crear_hijos(nodo_prometedor, dimension) ]\n",
        "\n",
        "    # Revisamos la cota superior y nos quedamos con la mejor solucion si llegamos a una solucion final\n",
        "    nodo_final = [x for x in hijos if len(x['s']) == dimension  ]\n",
        "    if len(nodo_final ) >0: \n",
        "      #print(\"\\n********Soluciones:\",  [x for x in hijos if len(x['s']) == dimension  ], \"\\n\")\n",
        "      if nodo_final[0]['ci'] < CotaSup:\n",
        "        CotaSup = nodo_final[0]['ci']\n",
        "        mejor_solucion = nodo_final\n",
        " \n",
        "    # Descartamos los hijos no prometedores\n",
        "    hijos = [x for x in hijos if x['ci'] < CotaSup   ]\n",
        "\n",
        "    # Añadimos los hijos \n",
        "    nodos.extend(hijos) \n",
        "\n",
        "    # Eliminamos el nodo ramificado\n",
        "    nodos =  [  x for x in nodos if x['s'] != nodo_prometedor    ]\n",
        "   \n",
        "  print(\"La solucion final es:\" ,mejor_solucion , \" en \" , iteracion , \" iteraciones\" , \" para dimension: \" ,dimension  )\n",
        "      \n",
        "\n",
        "\n",
        "ramificacion_y_poda(costes)"
      ],
      "metadata": {
        "colab": {
          "base_uri": "https://localhost:8080/"
        },
        "id": "fTcPuPNPrD2D",
        "outputId": "941f9a14-190f-44a0-fe95-d3e2cc12dc1c"
      },
      "execution_count": null,
      "outputs": [
        {
          "output_type": "stream",
          "name": "stdout",
          "text": [
            "La solucion final es: [{'s': (1, 2, 0, 3), 'ci': 64}]  en  10  iteraciones  para dimension:  4\n"
          ]
        }
      ]
    }
  ]
}