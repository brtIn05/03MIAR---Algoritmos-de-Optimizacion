{
 "cells": [
  {
   "attachments": {},
   "cell_type": "markdown",
   "metadata": {},
   "source": [
    "# Algoritmos de optimización - Seminario<br>\n",
    "**Nombre y Apellidos:** Alberto Rodriguez Arizaga  <br>\n",
    "**Url:** https://github.com/brtIn05/03MIAR---Algoritmos-de-Optimizacion/tree/main/Seminario<br>\n",
    "**Problema:**\n",
    "\n",
    "> 2. Organizar los horarios de partidos de La Liga<br>\n",
    "\n",
    "\n",
    "**Descripción del problema:**\n",
    "\n",
    "Desde la La Liga de fútbol profesional se pretende organizar los horarios de los partidos de liga de cada jornada. Se conocen algunos datos que nos deben llevar a diseñar un algoritmo que realice la asignación de los partidos a los horarios de forma que maximice la audiencia.\n",
    "\n",
    "Se dispone de 10 horarios diferentes y 20 equipos en 3 Categorias A,B y C (que tiene relación directa con la audiencia). Se proporciona la matriz de datos de audiencia en función de los enfrenmtamientos por categoria de equipos.\n",
    "\n",
    "Si el horario no se realiza a las 20 horas se aplica una penalización. \n",
    "\n",
    "Por último, se aplica otra penalización de audiencia en base al número de partidos programados en la misma franja horaria."
   ]
  },
  {
   "cell_type": "code",
   "execution_count": 173,
   "metadata": {},
   "outputs": [],
   "source": [
    "teams = 20\n",
    "slots = 10\n",
    "Cat_A = 3\n",
    "Cat_B = 11\n",
    "Cat_C = 6"
   ]
  },
  {
   "cell_type": "code",
   "execution_count": 174,
   "metadata": {},
   "outputs": [],
   "source": [
    "# Creamos matriz de audiencias\n",
    "#             #A  B  C\n",
    "audience = [ \n",
    "            [2, 1.3, 1],  \n",
    "            [1.3, 0.9, 0.75], \n",
    "            [1, 0.75, 0.47], \n",
    "]"
   ]
  },
  {
   "cell_type": "code",
   "execution_count": 175,
   "metadata": {},
   "outputs": [
    {
     "name": "stdout",
     "output_type": "stream",
     "text": [
      "[0, 0, 0, 1, 1, 1, 1, 1, 1, 1, 1, 2, 2, 2, 2, 2, 2, 2, 2, 2]\n"
     ]
    }
   ],
   "source": [
    "# Creamos lista de categorias de equipos en la cual cada equipo correspondera a un índice de esta lista\n",
    "\n",
    "category = []\n",
    "\n",
    "for i in range (teams):\n",
    "\n",
    "    if i < Cat_A: # Categoría A\n",
    "        category.append(0)\n",
    "    elif i < Cat_B: # Categoría B\n",
    "        category.append(1)\n",
    "    else: # Categoría C\n",
    "        category.append(2)\n",
    "\n",
    "print(category)"
   ]
  },
  {
   "cell_type": "code",
   "execution_count": 176,
   "metadata": {},
   "outputs": [],
   "source": [
    "category = [0, 0, 0, 1, 1, 1, 1, 1, 1, 1, 1, 1, 1, 1, 2, 2, 2, 2, 2, 2]"
   ]
  },
  {
   "cell_type": "code",
   "execution_count": 177,
   "metadata": {},
   "outputs": [],
   "source": [
    "penalty_slot = [0.4,0.55,0.7,0.8,1,0.45,0.75,0.85,1,0.4]\n",
    "# penalty_slot = [1,1,1,1,1,1,1,1,1,1]"
   ]
  },
  {
   "cell_type": "code",
   "execution_count": 178,
   "metadata": {},
   "outputs": [],
   "source": [
    "penalty_coincidence = [1, 1, 0.75,0.55,0.4,0.30,0.25,0.23,0.2,0.2]\n",
    "# penalty_coincidence = {0:1, 1:1, 2:0.02,3:0.02,4:0.02,5:0.02,6:0.02,7:0.02,8:0.02,9:0.02}"
   ]
  },
  {
   "cell_type": "code",
   "execution_count": 179,
   "metadata": {},
   "outputs": [],
   "source": [
    "def calculate_audience(slots_usage, penalty_slot, penalty_coincidence):\n",
    "    \"\"\"\n",
    "    Función que calcula audiencia de una combinación dada de partidos y slots\n",
    "    \"\"\"\n",
    "    audience = 0\n",
    "    # Recorremos el diccionario de partidos asignados a horarios\n",
    "    # Contamos su audiencia base, reducimos por tipo de horario y por coincidencia\n",
    "    for slot, matches in slots_usage.items():\n",
    "        for match in matches:\n",
    "            audience += match[-1]*penalty_slot[slot]*penalty_coincidence[len(matches)]\n",
    "    \n",
    "    audience = round(audience,3)\n",
    "    print(\"\\n\\n #### Audiencia obtenida: \", audience)\n",
    "    \n",
    "    return audience\n"
   ]
  },
  {
   "cell_type": "code",
   "execution_count": 180,
   "metadata": {},
   "outputs": [],
   "source": [
    "# Definir las variables de decisión\n",
    "\n",
    "def max_audienc_per_slot(teams, slots, category ,audience,penalty_slot,penalty_coincidence):\n",
    "    \"\"\"\n",
    "    Función que asigna slots a cada partido utilizando un algoritmo voraz\n",
    "    \"\"\"\n",
    "    # Inicializamos la lista de partidos usados\n",
    "    teams_already_used = []\n",
    "\n",
    "    # Inicializamos el diccionario donde colocaremos cada uno de los partidos calculados\n",
    "    # Las llaves serán los horarios y los valores los equipos\n",
    "    slots_usage = {slot:[] for slot in range(slots)}\n",
    "\n",
    "    # Creamos la lista de posibles combinaciones de partidos\n",
    "    # Utilizamos una tupla que contendrá el equipo 1 el equipo 2 y su audiencia en función de la categoria de ambos equipos\n",
    "    # Por ejemplo los equipos 0, 1, 2 serán los 3 equipos de Categoria A (primeros tres elementos de la lista category\n",
    "    # que se indexa luego para obtener la audiencia en la matriz de audiencias\n",
    "    match_audience = [(team1, team2, audience[category[team1]][category[team2]])  for team1 in range(teams) for team2 in range(team1+1,teams) ]\n",
    "\n",
    "    # Ordenamos los partidos por su audiencia\n",
    "    match_audience_sorted = sorted(match_audience,key=lambda x: x[2], reverse=True)\n",
    "\n",
    "    # Recorremos la lista de partidos ordenada por audiencia\n",
    "    for index, match in enumerate(match_audience_sorted):\n",
    "\n",
    "        # Seleccionamos la parte de la tupla que contiene el partido\n",
    "        match_teams = list(match[:2])\n",
    "        # Inicializamos las variables de horario y mejor horario y valor de mejor horario\n",
    "        slot = 0\n",
    "        best_slot_value = 0\n",
    "        best_slot = 0\n",
    "\n",
    "        # Verificamos si los equipos ya han sido utilizados para eviatar que un equipo juegue más de una vez por jornada\n",
    "    \n",
    "        if match_teams[0] not in teams_already_used and match_teams[1] not in teams_already_used:\n",
    "\n",
    "            # Verficamos que no sean los últimos dos partidos, en cuyo caso \n",
    "            # asumimos que se programarán viernes y sabado\n",
    "\n",
    "            if len(teams_already_used) < teams-4:\n",
    "\n",
    "                # Los incluimos en la lista de partidos usados\n",
    "                teams_already_used.extend(match_teams)\n",
    "\n",
    "                # Recorremos todos los slots\n",
    "                # Este bucle es la clave del algoritmo y analizará cual es el mejor slot (recorriendo todos ellos) en función\n",
    "                # de la penalización del mismo y de la coincidencia de horarios que existe.\n",
    "                # Almacenará dichos valores en las variables de mejor solución. Con ello nos aseguraremos\n",
    "                # de que elegimos la mejor solución en cada etapa.\n",
    "                while slot<slots-1:\n",
    "\n",
    "                    slot_value = penalty_slot[slot]*penalty_coincidence[len(slots_usage[slot])+1]\n",
    "                \n",
    "                    if  slot_value > best_slot_value:\n",
    "\n",
    "                        best_slot_value = slot_value\n",
    "                        best_slot = slot\n",
    "                \n",
    "                    slot += 1\n",
    "\n",
    "                # Añadimos el partido al mejor slot encontrado\n",
    "\n",
    "                slots_usage[best_slot].append(match)\n",
    "\n",
    "                # Printeamos la solución para ese partido\n",
    "\n",
    "                print(match[:2],f\" in slot {best_slot}\")\n",
    "\n",
    "            else:\n",
    "                # En caso de que sean los dos últimos partidos se envían directamente\n",
    "                # al horario del lunes o el viernes\n",
    "                if len(slots_usage[0]) == 0:\n",
    "                    teams_already_used.extend(match_teams)\n",
    "                    slots_usage[0].append(match)\n",
    "                    #audience_value += penalty_slot[0] * match[-1]\n",
    "                    print(match[:2],f\" in slot {0}\")\n",
    "\n",
    "                else:\n",
    "                    teams_already_used.extend(match_teams)\n",
    "                    slots_usage[9].append(match)\n",
    "                    #audience_value += penalty_slot[9] * match[-1]\n",
    "                    print(match[:2],f\" in slot {9}\")\n",
    "                    break\n",
    "                               \n",
    "    # Creamos una variable informativa que cuente cuantos partidos hemos puesto en cada horario            \n",
    "    slots_usage_qty = {slot:len(slots_usage[slot]) for slot in range  (slots)}\n",
    "\n",
    "    # Devolvemos la solúción encontrada       \n",
    "    print(\"\\n #### Allocation result: \")\n",
    "    print(slots_usage)\n",
    "    print(slots_usage_qty)\n",
    "\n",
    "\n",
    "    return slots_usage, slots_usage_qty\n",
    "\n"
   ]
  },
  {
   "cell_type": "code",
   "execution_count": 181,
   "metadata": {},
   "outputs": [
    {
     "name": "stdout",
     "output_type": "stream",
     "text": [
      "(0, 1)  in slot 4\n",
      "(2, 3)  in slot 8\n",
      "(4, 5)  in slot 7\n",
      "(6, 7)  in slot 3\n",
      "(8, 9)  in slot 4\n",
      "(10, 11)  in slot 6\n",
      "(12, 13)  in slot 8\n",
      "(14, 15)  in slot 2\n",
      "(16, 17)  in slot 0\n",
      "(18, 19)  in slot 9\n",
      "\n",
      " #### Allocation result: \n",
      "{0: [(16, 17, 0.47)], 1: [], 2: [(14, 15, 0.47)], 3: [(6, 7, 0.9)], 4: [(0, 1, 2), (8, 9, 0.9)], 5: [], 6: [(10, 11, 0.9)], 7: [(4, 5, 0.9)], 8: [(2, 3, 1.3), (12, 13, 0.9)], 9: [(18, 19, 0.47)]}\n",
      "{0: 1, 1: 0, 2: 1, 3: 1, 4: 2, 5: 0, 6: 1, 7: 1, 8: 2, 9: 1}\n",
      "\n",
      "\n",
      " #### Audiencia obtenida:  6.69\n"
     ]
    }
   ],
   "source": [
    "# Lanzamos el algoritmo con los datos del problema\n",
    "slots_usage, slots_usage_qty = max_audienc_per_slot(teams, slots, category, audience, penalty_slot, penalty_coincidence)\n",
    "audience_result = calculate_audience(slots_usage, penalty_slot, penalty_coincidence)\n"
   ]
  }
 ],
 "metadata": {
  "kernelspec": {
   "display_name": "base",
   "language": "python",
   "name": "python3"
  },
  "language_info": {
   "codemirror_mode": {
    "name": "ipython",
    "version": 3
   },
   "file_extension": ".py",
   "mimetype": "text/x-python",
   "name": "python",
   "nbconvert_exporter": "python",
   "pygments_lexer": "ipython3",
   "version": "3.9.13"
  },
  "orig_nbformat": 4,
  "vscode": {
   "interpreter": {
    "hash": "e06ff7da33dc9620448857a90ad8b5f428f0d573d205a934d2841c8aee45ea32"
   }
  }
 },
 "nbformat": 4,
 "nbformat_minor": 2
}
