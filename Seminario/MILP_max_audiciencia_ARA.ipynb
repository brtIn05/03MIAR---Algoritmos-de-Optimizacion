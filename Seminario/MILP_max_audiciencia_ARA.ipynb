{
 "cells": [
  {
   "cell_type": "code",
   "execution_count": 18,
   "metadata": {},
   "outputs": [],
   "source": [
    "import pulp"
   ]
  },
  {
   "cell_type": "code",
   "execution_count": 19,
   "metadata": {},
   "outputs": [],
   "source": [
    "# Crear un modelo de programación lineal entera\n",
    "model = pulp.LpProblem(\"partidos_audiencia_max\", pulp.LpMaximize)"
   ]
  },
  {
   "cell_type": "code",
   "execution_count": 20,
   "metadata": {},
   "outputs": [],
   "source": [
    "# Creamos matriz de audiencias\n",
    "audiencia = [ \n",
    "            [2, 1.3, 1],  \n",
    "            [1.3, 0.9, 0.75], \n",
    "            [1, 0.75, 0.47], \n",
    "]"
   ]
  },
  {
   "cell_type": "code",
   "execution_count": 21,
   "metadata": {},
   "outputs": [
    {
     "name": "stdout",
     "output_type": "stream",
     "text": [
      "[0, 0, 0, 1, 1, 1, 1, 1, 1, 1, 1, 1, 1, 1, 2, 2, 2, 2, 2, 2]\n"
     ]
    }
   ],
   "source": [
    "categorias = []\n",
    "\n",
    "for i in range (20):\n",
    "\n",
    "    if i < 3: # Categoría A\n",
    "        categorias.append(0)\n",
    "    elif i < 14: # Categoría B\n",
    "        categorias.append(1)\n",
    "    else: # Categoría C\n",
    "        categorias.append(2)\n",
    "\n",
    "print(categorias)"
   ]
  },
  {
   "cell_type": "code",
   "execution_count": 22,
   "metadata": {},
   "outputs": [],
   "source": [
    "penaliza_horario = [0.4,0.55,0.7,0.8,1,0.45,0.75,0.85,1,0.4]\n",
    "# penaliza_horario = [1,1,1,1,1,1,1,1,1,1]"
   ]
  },
  {
   "cell_type": "code",
   "execution_count": 23,
   "metadata": {},
   "outputs": [],
   "source": [
    "penaliza_coincidencia = {0:1, 1:1, 2:0.75,3:0.55,4:0.4,5:0.30,6:0.25,7:0.23,8:0.02,9:0.02}"
   ]
  },
  {
   "cell_type": "code",
   "execution_count": 24,
   "metadata": {},
   "outputs": [
    {
     "name": "stdout",
     "output_type": "stream",
     "text": [
      "4000\n"
     ]
    }
   ],
   "source": [
    "# Definir las variables de decisión\n",
    "# Tupla (local, visitante ,horario)\n",
    "# 20 equipos\n",
    "# 10 horarios\n",
    "\n",
    "horario_partido_nofiltrada = [(local, visitante, horario) for local in range(20) for visitante in range(20) for horario in range(10)]\n",
    "\n",
    "print(len(horario_partido_nofiltrada))"
   ]
  },
  {
   "cell_type": "code",
   "execution_count": 25,
   "metadata": {},
   "outputs": [],
   "source": [
    "# Definimos las variables de decisión\n",
    "var_partido_horario = pulp.LpVariable.dicts(\"var_partido_horario\", horario_partido_nofiltrada, 0, 1, cat=pulp.LpBinary)\n",
    "var_numero_partidos_por_horario = pulp.LpVariable.dicts(\"var_numero_partidos_por_horario\", [horario for horario in range (10)], lowBound=0, cat=pulp.LpInteger)\n"
   ]
  },
  {
   "cell_type": "code",
   "execution_count": 26,
   "metadata": {},
   "outputs": [],
   "source": [
    "# Aplicamos la restricción de que un equipo no juega contra si mismo\n",
    "for equipo in range(20):\n",
    "\n",
    "    model += pulp.lpSum([var_partido_horario[equipo,equipo,horario]  for horario in range(10)]) == 0"
   ]
  },
  {
   "cell_type": "code",
   "execution_count": 27,
   "metadata": {},
   "outputs": [],
   "source": [
    "# Aplicamos la restricción de que cada equipo solo juega un partido\n",
    "for equipo in range(20):\n",
    "\n",
    "    model += pulp.lpSum([var_partido_horario[equipo,visitante,horario] + var_partido_horario[visitante,equipo,horario] for visitante in range(20) for horario in range(10)]) == 1"
   ]
  },
  {
   "cell_type": "code",
   "execution_count": 28,
   "metadata": {},
   "outputs": [],
   "source": [
    "# Aplicamos la restricción de que al menos un partido se programa en el horario de viernes y de lunes\n",
    "\n",
    "#model += pulp.lpSum([var_partido_horario[local, visitante, 0] for local in range (20) for visitante in range (20)]) >=1\n",
    "# model += pulp.lpSum([var_partido_horario[local, visitante, 9] for local in range (20) for visitante in range (20)]) >=1\n",
    "model += var_numero_partidos_por_horario[0] >=1\n",
    "model += var_numero_partidos_por_horario[9] >=1"
   ]
  },
  {
   "cell_type": "code",
   "execution_count": 29,
   "metadata": {},
   "outputs": [],
   "source": [
    "# Restriccion de que la suma de partidos en horario tiene que ser igual al numero de partidos en ese horario\n",
    "for horario in range(10):\n",
    "    model += pulp.lpSum([var_partido_horario[local, visitante, horario] for local in range (20) for visitante in range (20)]) == var_numero_partidos_por_horario[horario]\n"
   ]
  },
  {
   "cell_type": "code",
   "execution_count": 30,
   "metadata": {},
   "outputs": [],
   "source": [
    "# Restriccion de que la suma de partidos en horario tiene que ser igual al numero de partidos en ese horario\n",
    "for horario in range(10):\n",
    "    model += var_numero_partidos_por_horario[horario] <= 2 \n"
   ]
  },
  {
   "cell_type": "code",
   "execution_count": 31,
   "metadata": {},
   "outputs": [],
   "source": [
    "# Creamos la función objetivo sumamos los valores de audiencia en función de la categoría del partido y aplica el coeficiente del horario\n",
    "\n",
    "\n",
    "model += pulp.lpSum([var_partido_horario[(local, visitante, horario)] * audiencia[categorias[local]][categorias[visitante]]*penaliza_horario[horario] for local in range(20) for visitante in range(20) for horario in range(10)])\n",
    "\n"
   ]
  },
  {
   "cell_type": "code",
   "execution_count": 32,
   "metadata": {},
   "outputs": [
    {
     "name": "stdout",
     "output_type": "stream",
     "text": [
      "Estado: Optimal\n",
      "Valor óptimo: 8.206\n"
     ]
    }
   ],
   "source": [
    "model.writeLP(\"partidos_audiencia_max.lp\")\n",
    "\n",
    "model.solve()\n",
    "\n",
    "print(\"Estado:\", pulp.LpStatus[model.status])\n",
    "print(\"Valor óptimo:\", pulp.value(model.objective))\n"
   ]
  },
  {
   "cell_type": "code",
   "execution_count": 33,
   "metadata": {},
   "outputs": [],
   "source": [
    "def num_partidos_simultaneos(horario):\n",
    "    # Número de partidos que comienzan en el horario\n",
    "    partidos_simultaneos = int(pulp.lpSum([var_partido_horario[(local, visitante, horario)].value() for local in range(20) for visitante in range(20)]).value())\n",
    "    return partidos_simultaneos"
   ]
  },
  {
   "cell_type": "code",
   "execution_count": 34,
   "metadata": {},
   "outputs": [
    {
     "name": "stdout",
     "output_type": "stream",
     "text": [
      "[1, 0, 0, 2, 2, 0, 0, 2, 2, 1]\n"
     ]
    }
   ],
   "source": [
    "cantidad = [num_partidos_simultaneos(horario) for horario in range(10)]\n",
    "print(cantidad)\n"
   ]
  },
  {
   "cell_type": "code",
   "execution_count": 35,
   "metadata": {},
   "outputs": [
    {
     "name": "stdout",
     "output_type": "stream",
     "text": [
      "var_partido_horario_(0,_1,_4) ----> 1.0\n",
      "var_partido_horario_(2,_7,_8) ----> 1.0\n",
      "var_partido_horario_(3,_10,_8) ----> 1.0\n",
      "var_partido_horario_(6,_15,_3) ----> 1.0\n",
      "var_partido_horario_(11,_4,_4) ----> 1.0\n",
      "var_partido_horario_(12,_5,_7) ----> 1.0\n",
      "var_partido_horario_(13,_8,_7) ----> 1.0\n",
      "var_partido_horario_(14,_17,_9) ----> 1.0\n",
      "var_partido_horario_(18,_16,_0) ----> 1.0\n",
      "var_partido_horario_(19,_9,_3) ----> 1.0\n",
      "var_numero_partidos_por_horario_0 ----> 1.0\n",
      "var_numero_partidos_por_horario_1 ----> 0.0\n",
      "var_numero_partidos_por_horario_2 ----> 0.0\n",
      "var_numero_partidos_por_horario_3 ----> 2.0\n",
      "var_numero_partidos_por_horario_4 ----> 2.0\n",
      "var_numero_partidos_por_horario_5 ----> 0.0\n",
      "var_numero_partidos_por_horario_6 ----> 0.0\n",
      "var_numero_partidos_por_horario_7 ----> 2.0\n",
      "var_numero_partidos_por_horario_8 ----> 2.0\n",
      "var_numero_partidos_por_horario_9 ----> 1.0\n"
     ]
    }
   ],
   "source": [
    "for local in range(20):\n",
    "    for visitante in range(20):\n",
    "        for horario in range(10):\n",
    "            if var_partido_horario[local,visitante,horario].value() == 1:\n",
    "                print(var_partido_horario[local,visitante,horario],\"---->\",var_partido_horario[local,visitante,horario].value())\n",
    "\n",
    "for horario in range(10):\n",
    "    \n",
    "    print(var_numero_partidos_por_horario[horario],\"---->\",var_numero_partidos_por_horario[horario].value())"
   ]
  }
 ],
 "metadata": {
  "kernelspec": {
   "display_name": "base",
   "language": "python",
   "name": "python3"
  },
  "language_info": {
   "codemirror_mode": {
    "name": "ipython",
    "version": 3
   },
   "file_extension": ".py",
   "mimetype": "text/x-python",
   "name": "python",
   "nbconvert_exporter": "python",
   "pygments_lexer": "ipython3",
   "version": "3.9.13"
  },
  "orig_nbformat": 4,
  "vscode": {
   "interpreter": {
    "hash": "e06ff7da33dc9620448857a90ad8b5f428f0d573d205a934d2841c8aee45ea32"
   }
  }
 },
 "nbformat": 4,
 "nbformat_minor": 2
}
