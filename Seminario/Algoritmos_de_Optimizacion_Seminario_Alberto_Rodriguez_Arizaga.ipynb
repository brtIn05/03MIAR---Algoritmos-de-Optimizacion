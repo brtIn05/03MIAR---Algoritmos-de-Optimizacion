{
  "cells": [
    {
      "attachments": {},
      "cell_type": "markdown",
      "metadata": {
        "id": "hVbXYX-RfPWh"
      },
      "source": [
        "# Algoritmos de optimización - Seminario<br>\n",
        "**Nombre y Apellidos:** Alberto Rodriguez Arizaga  <br>\n",
        "**Url:** https://github.com/brtIn05/03MIAR---Algoritmos-de-Optimizacion/tree/main/Seminario<br>\n",
        "**Url Collab:** https://colab.research.google.com/drive/1xTsS-v6Pt410uZQ4Zp12ir0tCN3r0dhD?usp=sharing  \n",
        "**Problema:**\n",
        "\n",
        "> 2. Organizar los horarios de partidos de La Liga<br>\n",
        "\n",
        "\n",
        "**Descripción del problema:**\n",
        "\n",
        "Desde la La Liga de fútbol profesional se pretende organizar los horarios de los partidos de liga de cada jornada. Se conocen algunos datos que nos deben llevar a diseñar un algoritmo que realice la asignación de los partidos a los horarios de forma que maximice la audiencia.\n",
        "\n",
        "Se dispone de 10 horarios diferentes y 20 equipos en 3 Categorias A,B y C (que tiene relación directa con la audiencia). Se proporciona la matriz de datos de audiencia en función de los enfrenmtamientos por categoria de equipos.\n",
        "\n",
        "Si el horario no se realiza a las 20 horas se aplica una penalización. \n",
        "\n",
        "Por último, se aplica otra penalización de audiencia en base al número de partidos programados en la misma franja horaria.\n",
        "\n",
        "\n",
        "(*) La respuesta es obligatoria\n",
        "\n",
        "\n",
        "\n",
        "\n",
        "\n",
        "                                        "
      ]
    },
    {
      "cell_type": "markdown",
      "metadata": {
        "id": "3_-exlrTgLd-"
      },
      "source": [
        "**1.- (*)¿Cuantas posibilidades hay sin tener en cuenta las restricciones?<br>**"
      ]
    },
    {
      "attachments": {},
      "cell_type": "markdown",
      "metadata": {
        "id": "T9WJdhUv47HJ"
      },
      "source": [
        "En el problema se plantean la diustribución de 20 equipos (10 partidos) en 10 horarios diferentes. Por tanto, las posibilidades equivaldrían a todas las posibilidades de combinación de partidos en esos horarios. La repetición se admite, puesto que puede haber un partido en el horario 1 y otro en el 2 y la sequencia es relevante puesto que no es lo mismo ponerlo un partido en el primer horario o en el último. Por tanto las posibilidades sin restricciónes equivaldrían a las Variaciones con repetición de m elementos tomados en tuplas de n. Lo cual equivale a 10 elevado a 10 posibilidades. \n",
        "\n",
        "$$VR_{10}^{10} = m^n =10^{10}$$"
      ]
    },
    {
      "cell_type": "markdown",
      "metadata": {
        "id": "wPeVUy8G7ZbZ"
      },
      "source": [
        "**¿Cuantas posibilidades hay teniendo en cuenta todas las restricciones?**"
      ]
    },
    {
      "cell_type": "markdown",
      "metadata": {
        "id": "R9Zn8Cqs7nHm"
      },
      "source": [
        "En el caso de que tomemos en cuanta la restricción de que obligatoriamente un partido se juega el viernes y otro el sabado equivaldria a asignar directamente dos partidos a dos slots determinados. Esto nos reduciría en ambos casos el espacio de soluciones a tomar 1 partido menos dos veces. Esta reducción se declararía como:\n",
        "\n",
        "$$RED = 2*9^{10}$$\n",
        "\n",
        "Esta reducción, sin embargo, incorpora también los horarios de sabado y viernes Por tanto, si restamos estas combinaciones del problema global estaríamos eliminado demasiadas soluciones. Ya que en el subconjunto no fijado se incluyen tambien los horarios de viernes y lunes. Habría que aplicar algún tipo de incremento a este valor. Pero pordría darnos una idea del orden de magnitud.\n",
        "\n"
      ]
    },
    {
      "cell_type": "markdown",
      "metadata": {
        "id": "dzynfVJahHoY"
      },
      "source": [
        "**Modelo para el espacio de soluciones<br>**\n",
        "**2.- (*) ¿Cual es la estructura de datos que mejor se adapta al problema? Argumentalo.(Es posible que hayas elegido una al principio y veas la necesidad de cambiar, arguentalo)**\n"
      ]
    },
    {
      "cell_type": "markdown",
      "metadata": {
        "id": "Cb9S1Hx1FQdf"
      },
      "source": [
        "El modelo de datos parte de una lista que contiene los equipo ordenados por categoría. Cada índice de esta lista representa un equipo y su valor su correspondiente categoría (A,B,C se representa por 0,1,2). \n",
        "\n"
      ]
    },
    {
      "cell_type": "code",
      "execution_count": 12,
      "metadata": {
        "id": "38c-7-ejhJmA"
      },
      "outputs": [],
      "source": [
        "category = [0, 0, 0, 1, 1, 1, 1, 1, 1, 1, 1, 1, 1, 1, 2, 2, 2, 2, 2, 2]"
      ]
    },
    {
      "cell_type": "markdown",
      "metadata": {
        "id": "9luvr5lKFra7"
      },
      "source": [
        "Esta estructura permite facilmente indexar su valor de audiencia base. Para ellos se genera una matriz simétrica con los datos de audiencia por categoría. \n",
        "  \n",
        "De este modo, por ejemplo, el enfrentamiento entre el equipo 13 y 14 (índices) corresponderá a un equipo de categoria 1 y 2 (valores, correspondiente a A y B) y se indexa en fila 1 columna 2 de la matriz de audiencia."
      ]
    },
    {
      "cell_type": "code",
      "execution_count": 13,
      "metadata": {
        "id": "0JWMYM2EFrJX"
      },
      "outputs": [],
      "source": [
        "audience = [ \n",
        "            [2, 1.3, 1],  \n",
        "            [1.3, 0.9, 0.75], \n",
        "            [1, 0.75, 0.47], \n",
        "]"
      ]
    },
    {
      "cell_type": "markdown",
      "metadata": {
        "id": "B6TFZ8S5Gvg_"
      },
      "source": [
        "Para modelar las penalizaciones en el caso de los coeficientes por horario se utiliza una lista donde cada índice corresponde al horario:"
      ]
    },
    {
      "cell_type": "code",
      "execution_count": 14,
      "metadata": {
        "id": "vTAhcCc0G73H"
      },
      "outputs": [],
      "source": [
        "penalty_slot = [0.4,0.55,0.7,0.8,1,0.45,0.75,0.85,1,0.4]"
      ]
    },
    {
      "cell_type": "markdown",
      "metadata": {
        "id": "MnqFI0nsG-fh"
      },
      "source": [
        "Para modelar las penalizaciones por coincidencia, se generó una lista y se invirtieron los porcentajes de modo que se apliquen como un coeficiente. El índice representa el número de partidos coincidentes y el valor en la lista el coeficiente aplicado."
      ]
    },
    {
      "cell_type": "code",
      "execution_count": 15,
      "metadata": {
        "id": "jVnGSlrZG-Sn"
      },
      "outputs": [],
      "source": [
        "penalty_coincidence = [1, 1, 0.75,0.55,0.4,0.30,0.25,0.23,0.2,0.2]"
      ]
    },
    {
      "cell_type": "markdown",
      "metadata": {
        "id": "knFceXsgIHzS"
      },
      "source": [
        "Finalmente podemos generar una lista de tuplas que analice todos los posibles enfrentamientos de cada equipo sabiendo que:\n",
        "\n",
        "*   Un equipo no juega contra el mismo\n",
        "*   Por ejemplo, El equipo 0 contra el equipo 1 es el mismo enfrentamiento que el equipo 1 contra el 0\n",
        "\n",
        "y añada como tercer elemento la audiencia base del partido:\n"
      ]
    },
    {
      "cell_type": "code",
      "execution_count": 16,
      "metadata": {
        "id": "j0r5aj9qJLF0"
      },
      "outputs": [],
      "source": [
        "# match_audience = [(team1, team2, audience[category[team1]][category[team2]])  for team1 in range(teams) for team2 in range(team1+1,teams) ]"
      ]
    },
    {
      "cell_type": "markdown",
      "metadata": {
        "id": "GSzInZ_sJg76"
      },
      "source": [
        "Durante el proceso de selección de algoritmo se valoro el uso de un modelo basado en mixed integer linear programing en ese caso se añadieron dos tipos de variables: \n",
        "\n",
        "\n",
        "*   Una variable de decisión binaria que decide si el partido se programa en un horario o no\n",
        "*   Una varible entera que cuenta el número de partidos en cada horario\n",
        "\n",
        "El camino de usar un algoritmo basado en MILP no se utilizó finalmente debido a la complejidad de modelar la penalización por coincidencia. Añado un ejemplo de uso de la libreria pulp de python para modelar variables de decisión en un modelo MILP y el algoritmo diseñado durante el proceso en mi github https://github.com/brtIn05/03MIAR---Algoritmos-de-Optimizacion/blob/main/Seminario/MILP_max_audiciencia_ARA.ipynb.\n"
      ]
    },
    {
      "cell_type": "code",
      "execution_count": 17,
      "metadata": {
        "id": "CoAeZjh4KbhX"
      },
      "outputs": [],
      "source": [
        "# var_partido_horario = pulp.LpVariable.dicts(\"var_partido_horario\", horario_partido, 0, 1, cat=pulp.LpBinary)\n",
        "# var_numero_partidos_por_horario = pulp.LpVariable.dicts(\"var_numero_partidos_por_horario\", [horario for horario in range (slots)], lowBound=0, cat=pulp.LpInteger)"
      ]
    },
    {
      "cell_type": "markdown",
      "metadata": {
        "id": "7Z9U2W7bi-XS"
      },
      "source": [
        "**3.- Según el modelo para el espacio de soluciones<br>**\n",
        "**(*)¿Cual es la función objetivo?**\n",
        "\n",
        "**(*)¿Es un problema de maximización o minimización?**"
      ]
    },
    {
      "cell_type": "markdown",
      "metadata": {
        "id": "2CtlbePxLhIB"
      },
      "source": [
        "La función objetivo sumará todos los valores de audiencia calculados para cada partido en cada horario asignaco. Para cada partido, tomará el valor de audiencia base de la tupla que contiene el partido seleccionado y le aplicará los coeficientes de reducción por simultaneidad y por horario."
      ]
    },
    {
      "cell_type": "code",
      "execution_count": 18,
      "metadata": {
        "id": "pDA-rg3Gj5Lz"
      },
      "outputs": [],
      "source": [
        "# audience += match[-1]*penalty_slot[slot]*penalty_coincidence[len(matches)]"
      ]
    },
    {
      "cell_type": "markdown",
      "metadata": {
        "id": "toiDocfENKL_"
      },
      "source": [
        "Es un problema de maximización que busca encopntrar la mejor combinación de partidos y horarios para obtener un mayor dato de audiencia acumulada."
      ]
    },
    {
      "cell_type": "markdown",
      "metadata": {
        "id": "rlnTYgY1j6I2"
      },
      "source": [
        "4.- Diseña un algoritmo para resolver el problema por fuerza bruta"
      ]
    },
    {
      "cell_type": "markdown",
      "metadata": {
        "id": "70rDgxYXkC8r"
      },
      "source": [
        "Respuesta"
      ]
    },
    {
      "cell_type": "code",
      "execution_count": null,
      "metadata": {
        "id": "CJb5sQ0qkENy"
      },
      "outputs": [],
      "source": []
    },
    {
      "cell_type": "markdown",
      "metadata": {
        "id": "tgrnsC2nkFa8"
      },
      "source": [
        "5.- Calcula la complejidad del algoritmo por fuerza bruta"
      ]
    },
    {
      "cell_type": "markdown",
      "metadata": {
        "id": "tJRVtsL1iGLf"
      },
      "source": [
        "Un algoritmo por fuerza bruta debería analizar y recorrer todas las posibles combinaciones de partidos analizando en cada una de ellas el valor de la audiencia calculada. Esto se traduciría en una un bucle que recorrería del orden de n! combinaciones siendo n el numero de partidos posibles. Por tanto su complejidad sería $O(n!)$."
      ]
    },
    {
      "cell_type": "markdown",
      "metadata": {
        "id": "txbrmLmskReM"
      },
      "source": [
        "6.- **(*)Diseña un algoritmo que mejore la complejidad del algortimo por fuerza bruta. Argumenta porque crees que mejora el algoritmo por fuerza bruta**"
      ]
    },
    {
      "cell_type": "markdown",
      "metadata": {
        "id": "CLl7C5B9O4bD"
      },
      "source": [
        "El algoritmo planteado para la resolución de este problema se basa en la utilización de una técnica voraz. En cada etapa intentaremos elegir el partido y horario que más audiencia proporcione teniendo en cuenta las condiciones y restricciones. Una de las claves para lograr esto se basa en que ordenamos previamente los partidos por su audiencia base por lo que en cada iterción estamos eligiendo el enfrentamiento base con mas audiencia. Sumando la audiencia obtenida en todas las etapas de asignación encontraremos el valor de la audiencia total. Este algoritmo no nos garantiza un máximo global, sin embargo nos puede proporcionar una buena aproximación al mismo.  \n",
        "Por el contrario, el algoritmo por fuerza bruta deberá analizar todas las posibles combinaciones de partidos en horarios y proporcionarnos la mejor combinación encontrada sin embargo las posibles combinaciones de este problema son muy elevadas.\n",
        "\n",
        "La implementación del algoritmo voraz que resuelve el problema se presenta en la fúncion planteada a continuación y denominada max_audienc_per_slot. Los comentarios se han añadido en el código para facilitar su comprensión."
      ]
    },
    {
      "cell_type": "code",
      "execution_count": 19,
      "metadata": {
        "id": "m1eyM21Vkabg"
      },
      "outputs": [],
      "source": [
        "def max_audienc_per_slot(teams, slots, category ,audience,penalty_slot,penalty_coincidence):\n",
        "    \"\"\"\n",
        "    Función que asigna slots a cada partido utilizando un algoritmo voraz\n",
        "    \"\"\"\n",
        "    # Inicializamos la lista de partidos usados\n",
        "    teams_already_used = []\n",
        "\n",
        "    # Inicializamos el diccionario donde colocaremos cada uno de los partidos calculados\n",
        "    # Las llaves serán los horarios y los valores los equipos\n",
        "    slots_usage = {slot:[] for slot in range(slots)}\n",
        "\n",
        "    # Creamos la lista de posibles combinaciones de partidos\n",
        "    # Utilizamos una tupla que contendrá el equipo 1 el equipo 2 y su audiencia en función de la categoria de ambos equipos\n",
        "    # Por ejemplo los equipos 0, 1, 2 serán los 3 equipos de Categoria A (primeros tres elementos de la lista category\n",
        "    # que se indexa luego para obtener la audiencia en la matriz de audiencias\n",
        "    match_audience = [(team1, team2, audience[category[team1]][category[team2]])  for team1 in range(teams) for team2 in range(team1+1,teams) ]\n",
        "\n",
        "    # Ordenamos los partidos por su audiencia, de modo que en cada iteración el partido elegido tiene la mayor audiencia base\n",
        "    match_audience_sorted = sorted(match_audience,key=lambda x: x[2], reverse=True)\n",
        "\n",
        "    # Recorremos la lista de partidos ordenada de mayor a menor audiencia\n",
        "    for index, match in enumerate(match_audience_sorted):\n",
        "\n",
        "        # Seleccionamos la parte de la tupla que contiene el partido\n",
        "        match_teams = list(match[:2])\n",
        "        # Inicializamos las variables de horario y mejor horario y valor de mejor horario\n",
        "        slot = 0\n",
        "        best_slot_value = 0\n",
        "        best_slot = 0\n",
        "\n",
        "        # Verificamos si los equipos ya han sido utilizados para eviatar que un equipo juegue más de una vez por jornada\n",
        "    \n",
        "        if match_teams[0] not in teams_already_used and match_teams[1] not in teams_already_used:\n",
        "\n",
        "            # Verficamos que no sean los últimos dos partidos, en cuyo caso \n",
        "            # asumimos que se programarán viernes y sabado\n",
        "\n",
        "            if len(teams_already_used) < teams-4:\n",
        "\n",
        "                # Los incluimos en la lista de partidos usados\n",
        "                teams_already_used.extend(match_teams)\n",
        "\n",
        "                # Recorremos todos los slots\n",
        "                # Este bucle es la clave del algoritmo y analizará cual es el mejor slot (recorriendo todos ellos) en función\n",
        "                # de la penalización del mismo y de la coincidencia de horarios que existe.\n",
        "                # Almacenará dichos valores en las variables de mejor solución. Con ello nos aseguraremos\n",
        "                # de que elegimos la mejor solución en cada etapa.\n",
        "                while slot<slots-1:\n",
        "\n",
        "                    slot_value = penalty_slot[slot]*penalty_coincidence[len(slots_usage[slot])+1]\n",
        "                \n",
        "                    if  slot_value > best_slot_value:\n",
        "\n",
        "                        best_slot_value = slot_value\n",
        "                        best_slot = slot\n",
        "                \n",
        "                    slot += 1\n",
        "\n",
        "                # Añadimos el partido al mejor slot encontrado\n",
        "\n",
        "                slots_usage[best_slot].append(match)\n",
        "\n",
        "                # Printeamos la solución para ese partido\n",
        "\n",
        "                print(match[:2],f\" in slot {best_slot}\")\n",
        "\n",
        "            else:\n",
        "                # En caso de que sean los dos últimos partidos se envían directamente\n",
        "                # al horario del lunes o el viernes\n",
        "                if len(slots_usage[0]) == 0:\n",
        "                    teams_already_used.extend(match_teams)\n",
        "                    slots_usage[0].append(match)\n",
        "                    #audience_value += penalty_slot[0] * match[-1]\n",
        "                    print(match[:2],f\" in slot {0}\")\n",
        "\n",
        "                else:\n",
        "                    teams_already_used.extend(match_teams)\n",
        "                    slots_usage[9].append(match)\n",
        "                    #audience_value += penalty_slot[9] * match[-1]\n",
        "                    print(match[:2],f\" in slot {9}\")\n",
        "                    break\n",
        "                               \n",
        "    # Creamos una variable informativa que cuente cuantos partidos hemos puesto en cada horario            \n",
        "    slots_usage_qty = {slot:len(slots_usage[slot]) for slot in range  (slots)}\n",
        "\n",
        "    # Devolvemos la solúción encontrada       \n",
        "    print(\"\\n #### Resultado de asignación de horarios: \\n\")\n",
        "    print(slots_usage)\n",
        "    print(slots_usage_qty)\n",
        "\n",
        "\n",
        "    return slots_usage, slots_usage_qty"
      ]
    },
    {
      "cell_type": "markdown",
      "metadata": {
        "id": "7B9rfFX-T4Rr"
      },
      "source": [
        "Añadimos una función que calcule la audiencia de una solución."
      ]
    },
    {
      "cell_type": "code",
      "execution_count": 20,
      "metadata": {
        "id": "7Q4oMqZJTQph"
      },
      "outputs": [],
      "source": [
        "def calculate_audience(slots_usage, penalty_slot, penalty_coincidence):\n",
        "    \"\"\"\n",
        "    Función que calcula audiencia de una combinación dada de partidos y slots\n",
        "    \"\"\"\n",
        "    audience = 0\n",
        "    # Recorremos el diccionario de partidos asignados a horarios\n",
        "    # Contamos su audiencia base, reducimos por tipo de horario y por coincidencia\n",
        "    for slot, matches in slots_usage.items():\n",
        "        for match in matches:\n",
        "            audience += match[-1]*penalty_slot[slot]*penalty_coincidence[len(matches)]\n",
        "    \n",
        "    audience = round(audience,3)\n",
        "    print(\"\\n\\n #### Audiencia obtenida: \", audience)\n",
        "    \n",
        "    return audience\n"
      ]
    },
    {
      "cell_type": "markdown",
      "metadata": {
        "id": "P2VXfL9XTzyA"
      },
      "source": [
        "Inicializamos el problema y lanzamos las funciones."
      ]
    },
    {
      "cell_type": "code",
      "execution_count": 21,
      "metadata": {
        "colab": {
          "base_uri": "https://localhost:8080/"
        },
        "id": "Cw1ltpDwTbHj",
        "outputId": "a88fbe8b-510a-498d-95b6-3f862ed8c59e"
      },
      "outputs": [
        {
          "name": "stdout",
          "output_type": "stream",
          "text": [
            "[0, 0, 0, 1, 1, 1, 1, 1, 1, 1, 1, 1, 1, 1, 2, 2, 2, 2, 2, 2]\n"
          ]
        }
      ],
      "source": [
        "teams = 20\n",
        "slots = 10\n",
        "Cat_A = 3\n",
        "Cat_B = 11\n",
        "Cat_C = 6\n",
        "\n",
        "category = []\n",
        "\n",
        "for i in range (teams):\n",
        "\n",
        "    if i < Cat_A: # Categoría A\n",
        "        category.append(0)\n",
        "    elif i < Cat_B + Cat_A: # Categoría B\n",
        "        category.append(1)\n",
        "    else: # Categoría C\n",
        "        category.append(2)\n",
        "\n",
        "print(category)\n"
      ]
    },
    {
      "cell_type": "code",
      "execution_count": 22,
      "metadata": {
        "colab": {
          "base_uri": "https://localhost:8080/"
        },
        "id": "1AHEG4bUTUAq",
        "outputId": "ecec80b1-59f6-45c6-e00d-d171dd7c26cd"
      },
      "outputs": [
        {
          "name": "stdout",
          "output_type": "stream",
          "text": [
            "(0, 1)  in slot 4\n",
            "(2, 3)  in slot 8\n",
            "(4, 5)  in slot 7\n",
            "(6, 7)  in slot 3\n",
            "(8, 9)  in slot 4\n",
            "(10, 11)  in slot 6\n",
            "(12, 13)  in slot 8\n",
            "(14, 15)  in slot 2\n",
            "(16, 17)  in slot 0\n",
            "(18, 19)  in slot 9\n",
            "\n",
            " #### Resultado de asignación de horarios: \n",
            "\n",
            "{0: [(16, 17, 0.47)], 1: [], 2: [(14, 15, 0.47)], 3: [(6, 7, 0.9)], 4: [(0, 1, 2), (8, 9, 0.9)], 5: [], 6: [(10, 11, 0.9)], 7: [(4, 5, 0.9)], 8: [(2, 3, 1.3), (12, 13, 0.9)], 9: [(18, 19, 0.47)]}\n",
            "{0: 1, 1: 0, 2: 1, 3: 1, 4: 2, 5: 0, 6: 1, 7: 1, 8: 2, 9: 1}\n",
            "\n",
            "\n",
            " #### Audiencia obtenida:  6.69\n"
          ]
        }
      ],
      "source": [
        "# Lanzamos el algoritmo con los datos del problema\n",
        "slots_usage, slots_usage_qty = max_audienc_per_slot(teams, slots, category, audience, penalty_slot, penalty_coincidence)\n",
        "audience_result = calculate_audience(slots_usage, penalty_slot, penalty_coincidence)"
      ]
    },
    {
      "cell_type": "markdown",
      "metadata": {
        "id": "IY9nMi1xT-qv"
      },
      "source": [
        "El algoritmo voraz es capaz de obtener un resultado de asignación de partidos a horarios obteniendo un resultado de audiencia de 6.69 millones de espectadores."
      ]
    },
    {
      "cell_type": "markdown",
      "metadata": {
        "id": "eGDB4K6uk1iN"
      },
      "source": [
        "**7.- (*)Calcula la complejidad del algoritmo**"
      ]
    },
    {
      "cell_type": "markdown",
      "metadata": {
        "id": "KhPOnWYGVXrG"
      },
      "source": [
        "El algoritmo emplea dos bucles anidados. Un bucle for que recorre los posibles partidos y un bucle while que analiza el valor de todos los slots posibles para cada partido. En el caso mejor ambos bucles recorrerian exclusivamente el número de horarios disponible sin embargo, existe la posibilidad de que el primer bucle recorra alguna vez mas tratando de encontrar enfrentamientos entre equipos no utilizados. Adicionalmente, se emplea una función de ordención de la lista principal de partidos por tanto la complejidad  se puede aproximar a: \n",
        "\n",
        "$$ O(n^2)$$\n",
        "\n",
        "Cabe mencionar que en algunos escenarios donde el número de partidos fuese muy grande pero el número de horarios se mantuviese la ordenación de la lista podría tomar mas protagonismo y cambiar la complejidad."
      ]
    },
    {
      "cell_type": "markdown",
      "metadata": {
        "id": "3M6QjTsSkmYe"
      },
      "source": [
        "8.- Según el problema (y tenga sentido), diseña un juego de datos de entrada aleatorios"
      ]
    },
    {
      "cell_type": "markdown",
      "metadata": {
        "id": "Jc3_OlyNkvjZ"
      },
      "source": [
        "Respuesta"
      ]
    },
    {
      "cell_type": "code",
      "execution_count": null,
      "metadata": {
        "id": "sJ-N2etjkyWc"
      },
      "outputs": [],
      "source": []
    },
    {
      "cell_type": "markdown",
      "metadata": {
        "id": "zy5ZROmjlGo1"
      },
      "source": [
        "9.- Aplica el algoritmo al juego de datos generado"
      ]
    },
    {
      "cell_type": "markdown",
      "metadata": {
        "id": "_Cmj-PVylMsa"
      },
      "source": [
        "Respuesta"
      ]
    },
    {
      "cell_type": "code",
      "execution_count": null,
      "metadata": {
        "id": "Jkx8GeiYlUz1"
      },
      "outputs": [],
      "source": []
    },
    {
      "cell_type": "markdown",
      "metadata": {
        "id": "eTFWUJQrtGcv"
      },
      "source": [
        "10.- Enumera las referencias que has utilizado(si ha sido necesario) para llevar a cabo el trabajo"
      ]
    },
    {
      "cell_type": "markdown",
      "metadata": {
        "id": "YKQ_mRBttWsP"
      },
      "source": [
        "Como se ha comentado previamente,  antes de utilizar el algoritmo voraz se planteo el uso de MILP. Para ello se realizó una preimplementación en python en la que se consiguio resolver todas las restricciónes excepto la parte de tratamiento de la coincidencia de partidos. Imponiendo una restricción fija a un maximo de 2 partidos. Para ellos se analizaron diversas referencias sobre implementación de algoritmos de programación lineal y programación por restricciones:\n",
        "\n",
        "Mi código en python:\n",
        "\n",
        "https://github.com/brtIn05/03MIAR---Algoritmos-de-Optimizacion/blob/main/Seminario/MILP_max_audiciencia_ARA.ipynb\n",
        "\n",
        "\n",
        "Referencias Pulp:\n",
        "\n",
        "https://coin-or.github.io/pulp/\n",
        "\n",
        "Tambien se analizó este problema en comparación son el problema clásico  *sports league schedule* que se resuelve a traves de programación con restricciones utilizando algorítmos de busqueda y heurísticas para ello:\n",
        "\n",
        "https://ibmdecisionoptimization.github.io/docplex-doc/mp/sports_scheduling.html\n",
        "\n",
        "https://www.ibm.com/docs/en/icos/22.1.1?topic=optimizer-using-specialized-constraints-tuples-scheduling-teams"
      ]
    },
    {
      "cell_type": "markdown",
      "metadata": {
        "id": "kAkDPUyRtYyH"
      },
      "source": [
        "11.- Describe brevemente las lineas de como crees que es posible avanzar en el estudio del problema. Ten en cuenta incluso posibles variaciones del problema y/o variaciones al alza del tamaño"
      ]
    },
    {
      "cell_type": "markdown",
      "metadata": {
        "id": "IE0uZmo-tZu-"
      },
      "source": [
        "Como se ha mencionado este problema está estrechamente ligado al problema tipo de *sports league schedule*. En nuestro caso un algoritmo voraz esta ligado cuadraticamente a las posibles combinaciones de horarios por lo que en problemas grandes podríamos tener problemas. Adicionalmente el valor maximo que proporciona podría no ser adecuado dependiendo de las condiciones en las que se desarrolle el problema.  \n",
        "La utilización de algoritmos de constraint programming que se valgan de algoritmos de busqueda  y técnicas de inferencia podría ayudar a reducir la copmplejidad del problema y encontrar soluciones más optimas. En una de las referencias que aporto se puede ver el desarrollo de un problema similar implementado a través de IBM CPLEX o CPO (Constraint programming optimizer)."
      ]
    }
  ],
  "metadata": {
    "colab": {
      "provenance": []
    },
    "kernelspec": {
      "display_name": "base",
      "language": "python",
      "name": "python3"
    },
    "language_info": {
      "codemirror_mode": {
        "name": "ipython",
        "version": 3
      },
      "file_extension": ".py",
      "mimetype": "text/x-python",
      "name": "python",
      "nbconvert_exporter": "python",
      "pygments_lexer": "ipython3",
      "version": "3.9.13"
    },
    "vscode": {
      "interpreter": {
        "hash": "e06ff7da33dc9620448857a90ad8b5f428f0d573d205a934d2841c8aee45ea32"
      }
    }
  },
  "nbformat": 4,
  "nbformat_minor": 0
}
